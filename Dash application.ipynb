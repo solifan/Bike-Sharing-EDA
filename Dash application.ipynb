{
 "cells": [
  {
   "cell_type": "code",
   "execution_count": null,
   "id": "0ab069d2-accd-4952-861d-f3f12e7fe9a5",
   "metadata": {},
   "outputs": [],
   "source": [
    "%%writefile app001.py\n",
    "\n",
    "# importing libraries\n",
    "import pandas as pd\n",
    "import plotly.express as px\n",
    "from dash import Dash, html, dcc\n",
    "\n",
    "#importing dataframe\n",
    "df =pd.read_csv(\"C:\\\\Users\\\\Rasha\\\\Downloads\\\\Bike Sharing EDA project\\\\londen_merged_modified.csv\")\n",
    "\n",
    "#making application\n",
    "app = Dash()\n",
    "\n",
    "# application layout\n",
    "colors = [ 'blue' ,'orange', 'yellow', 'white','blue' ,'yellow','white' ,  'orange']\n",
    "\n",
    "app.layout = [html.Div(children ='London Bike Sharing Analysis'),\n",
    "        dcc.Graph(figure=px.pie(df.groupby('season')['cnt'].sum(), labels= df.groupby('season')['cnt'].sum().index)),\n",
    "        dcc.Graph(figure=px.pie(df.groupby('weather_code')['cnt'].sum(), labels= df.groupby('weather_code')['cnt'].sum().index)),\n",
    "        dcc.Graph(figure=px.pie(df.groupby('time_of_day')['cnt'].sum(), labels= df.groupby('time_of_day')['cnt'].sum().index)),\n",
    "        dcc.Graph(figure=px.line(t1, x=t1.index, y=\"cnt\", markers=True))\n",
    "             ]\n",
    "\n",
    "#creating callback function\n",
    "\n",
    "\n",
    "# running application\n",
    "app.run(debug = True, port =8050)"
   ]
  }
 ],
 "metadata": {
  "kernelspec": {
   "display_name": "Python 3 (ipykernel)",
   "language": "python",
   "name": "python3"
  },
  "language_info": {
   "codemirror_mode": {
    "name": "ipython",
    "version": 3
   },
   "file_extension": ".py",
   "mimetype": "text/x-python",
   "name": "python",
   "nbconvert_exporter": "python",
   "pygments_lexer": "ipython3",
   "version": "3.11.7"
  }
 },
 "nbformat": 4,
 "nbformat_minor": 5
}
